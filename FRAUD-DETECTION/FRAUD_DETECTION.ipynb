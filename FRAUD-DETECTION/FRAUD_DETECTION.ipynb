{
  "nbformat": 4,
  "nbformat_minor": 0,
  "metadata": {
    "colab": {
      "provenance": []
    },
    "kernelspec": {
      "name": "python3",
      "display_name": "Python 3"
    },
    "language_info": {
      "name": "python"
    }
  },
  "cells": [
    {
      "cell_type": "code",
      "execution_count": null,
      "metadata": {
        "id": "ZYoIj5x3zxiQ"
      },
      "outputs": [],
      "source": [
        "import pandas as pd\n",
        "import numpy as np\n",
        "from sklearn.model_selection import train_test_split\n",
        "from sklearn.ensemble import RandomForestClassifier\n",
        "from sklearn.metrics import classification_report, confusion_matrix, roc_auc_score, accuracy_score\n",
        "import zipfile\n",
        "import os\n",
        "import pickle\n",
        "import warnings\n",
        "warnings.filterwarnings('ignore')\n"
      ]
    },
    {
      "cell_type": "code",
      "source": [
        "# Fix for pandas pickle compatibility\n",
        "import sys\n",
        "import pandas.core.indexes.base as base\n",
        "\n",
        "# Create proper Int64Index wrapper\n",
        "class Int64Index(pd.Index):\n",
        "    def __new__(cls, data=None, dtype=None, copy=False, name=None):\n",
        "        return pd.Index(data, dtype=dtype, copy=copy, name=name)\n",
        "\n",
        "class UInt64Index(pd.Index):\n",
        "    def __new__(cls, data=None, dtype=None, copy=False, name=None):\n",
        "        return pd.Index(data, dtype=dtype, copy=copy, name=name)\n",
        "\n",
        "class Float64Index(pd.Index):\n",
        "    def __new__(cls, data=None, dtype=None, copy=False, name=None):\n",
        "        return pd.Index(data, dtype=dtype, copy=copy, name=name)\n",
        "\n",
        "# Register in the base module\n",
        "base.Int64Index = Int64Index\n",
        "base.UInt64Index = UInt64Index\n",
        "base.Float64Index = Float64Index\n",
        "\n",
        "# Create numeric module\n",
        "class NumericModule:\n",
        "    Int64Index = Int64Index\n",
        "    UInt64Index = UInt64Index\n",
        "    Float64Index = Float64Index\n",
        "\n",
        "sys.modules['pandas.core.indexes.numeric'] = NumericModule()\n"
      ],
      "metadata": {
        "id": "6DZq3g2qWpz_"
      },
      "execution_count": null,
      "outputs": []
    },
    {
      "cell_type": "code",
      "source": [
        "# Extract dataset\n",
        "with zipfile.ZipFile('dataset.zip', 'r') as zip_ref:\n",
        "    zip_ref.extractall()\n",
        "\n",
        "# Load all PKL files\n",
        "data_folder = 'data'\n",
        "all_files = [f for f in os.listdir(data_folder) if f.endswith('.pkl')]\n",
        "all_files.sort()\n",
        "\n",
        "print(f\"Found {len(all_files)} PKL files\")\n",
        "\n",
        "df_list = []\n",
        "for file in all_files:\n",
        "    file_path = os.path.join(data_folder, file)\n",
        "    with open(file_path, 'rb') as f:\n",
        "        df_temp = pickle.load(f)\n",
        "        df_list.append(df_temp)\n",
        "\n",
        "df = pd.concat(df_list, ignore_index=True)\n",
        "print(f\"Total transactions: {len(df)}\")\n",
        "print(f\"Fraud transactions: {df['TX_FRAUD'].sum()} ({df['TX_FRAUD'].mean()*100:.2f}%)\")\n"
      ],
      "metadata": {
        "id": "K5_Y3p7TWy60"
      },
      "execution_count": null,
      "outputs": []
    },
    {
      "cell_type": "code",
      "source": [
        "# Convert datetime\n",
        "df['TX_DATETIME'] = pd.to_datetime(df['TX_DATETIME'])\n",
        "df = df.sort_values('TX_DATETIME').reset_index(drop=True)\n",
        "\n",
        "# Extract time features\n",
        "df['TX_HOUR'] = df['TX_DATETIME'].dt.hour\n",
        "df['TX_DAY'] = df['TX_DATETIME'].dt.day\n",
        "df['TX_WEEKDAY'] = df['TX_DATETIME'].dt.weekday\n",
        "df['TX_MONTH'] = df['TX_DATETIME'].dt.month\n"
      ],
      "metadata": {
        "id": "4iM8wIhWW5pL"
      },
      "execution_count": null,
      "outputs": []
    },
    {
      "cell_type": "code",
      "source": [
        "# Customer behavior features\n",
        "customer_stats = df.groupby('CUSTOMER_ID').agg({\n",
        "    'TX_AMOUNT': ['mean', 'std', 'max', 'min', 'count']\n",
        "}).reset_index()\n",
        "customer_stats.columns = ['CUSTOMER_ID', 'CUST_AVG', 'CUST_STD', 'CUST_MAX', 'CUST_MIN', 'CUST_TX_COUNT']\n",
        "df = df.merge(customer_stats, on='CUSTOMER_ID', how='left')\n",
        "\n",
        "df['AMOUNT_VS_AVG'] = df['TX_AMOUNT'] / (df['CUST_AVG'] + 1)\n",
        "df['AMOUNT_VS_MAX'] = df['TX_AMOUNT'] / (df['CUST_MAX'] + 1)\n",
        "\n",
        "# Terminal risk features\n",
        "terminal_stats = df.groupby('TERMINAL_ID').agg({\n",
        "    'TX_FRAUD': 'mean',\n",
        "    'TX_AMOUNT': 'mean',\n",
        "    'CUSTOMER_ID': 'count'\n",
        "}).reset_index()\n",
        "terminal_stats.columns = ['TERMINAL_ID', 'TERMINAL_FRAUD_RATE', 'TERMINAL_AVG_AMOUNT', 'TERMINAL_TX_COUNT']\n",
        "df = df.merge(terminal_stats, on='TERMINAL_ID', how='left')\n",
        "\n",
        "# High amount flag (scenario 1)\n",
        "df['HIGH_AMOUNT_FLAG'] = (df['TX_AMOUNT'] > 220).astype(int)\n"
      ],
      "metadata": {
        "id": "q-pDMvSVXB7V"
      },
      "execution_count": null,
      "outputs": []
    },
    {
      "cell_type": "code",
      "source": [
        "# Feature selection\n",
        "features = [\n",
        "    'TX_AMOUNT', 'TX_HOUR', 'TX_DAY', 'TX_WEEKDAY', 'TX_MONTH',\n",
        "    'CUST_AVG', 'CUST_STD', 'CUST_MAX', 'CUST_MIN', 'CUST_TX_COUNT',\n",
        "    'AMOUNT_VS_AVG', 'AMOUNT_VS_MAX',\n",
        "    'TERMINAL_FRAUD_RATE', 'TERMINAL_AVG_AMOUNT', 'TERMINAL_TX_COUNT',\n",
        "    'HIGH_AMOUNT_FLAG'\n",
        "]\n",
        "\n",
        "X = df[features].fillna(0)\n",
        "y = df['TX_FRAUD']\n",
        "\n",
        "# Train-test split\n",
        "X_train, X_test, y_train, y_test = train_test_split(\n",
        "    X, y, test_size=0.2, random_state=42, stratify=y\n",
        ")\n",
        "\n",
        "print(f\"\\nTraining samples: {len(X_train)}\")\n",
        "print(f\"Testing samples: {len(X_test)}\")\n",
        "\n",
        "# Train Random Forest model\n",
        "print(\"\\nTraining model...\")\n",
        "model = RandomForestClassifier(\n",
        "    n_estimators=100,\n",
        "    max_depth=12,\n",
        "    min_samples_split=10,\n",
        "    random_state=42,\n",
        "    n_jobs=-1,\n",
        "    class_weight='balanced'\n",
        ")\n",
        "model.fit(X_train, y_train)\n",
        "\n",
        "# Predictions\n",
        "y_pred = model.predict(X_test)\n",
        "y_pred_proba = model.predict_proba(X_test)[:, 1]\n"
      ],
      "metadata": {
        "id": "EL3729U_XHu7"
      },
      "execution_count": null,
      "outputs": []
    },
    {
      "cell_type": "code",
      "source": [
        "# Evaluation metrics\n",
        "print(\"\\n\" + \"=\"*50)\n",
        "print(\"MODEL PERFORMANCE\")\n",
        "print(\"=\"*50)\n",
        "\n",
        "print(f\"\\nAccuracy: {accuracy_score(y_test, y_pred):.4f}\")\n",
        "print(f\"ROC-AUC Score: {roc_auc_score(y_test, y_pred_proba):.4f}\")\n",
        "\n",
        "print(\"\\nClassification Report:\")\n",
        "print(classification_report(y_test, y_pred, target_names=['Legitimate', 'Fraud']))\n",
        "\n",
        "print(\"\\nConfusion Matrix:\")\n",
        "cm = confusion_matrix(y_test, y_pred)\n",
        "print(cm)\n",
        "print(f\"\\nTrue Negatives: {cm[0,0]}\")\n",
        "print(f\"False Positives: {cm[0,1]}\")\n",
        "print(f\"False Negatives: {cm[1,0]}\")\n",
        "print(f\"True Positives: {cm[1,1]}\")\n",
        "\n",
        "# Feature importance\n",
        "print(\"\\n\" + \"=\"*50)\n",
        "print(\"FEATURE IMPORTANCE\")\n",
        "print(\"=\"*50)\n",
        "feature_importance = pd.DataFrame({\n",
        "    'Feature': features,\n",
        "    'Importance': model.feature_importances_\n",
        "}).sort_values('Importance', ascending=False)\n",
        "print(feature_importance.to_string(index=False))"
      ],
      "metadata": {
        "id": "5aeRDfoUXMyh"
      },
      "execution_count": null,
      "outputs": []
    }
  ]
}