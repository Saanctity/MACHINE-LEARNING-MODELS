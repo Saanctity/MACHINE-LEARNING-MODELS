{
  "nbformat": 4,
  "nbformat_minor": 0,
  "metadata": {
    "colab": {
      "provenance": []
    },
    "kernelspec": {
      "name": "python3",
      "display_name": "Python 3"
    },
    "language_info": {
      "name": "python"
    }
  },
  "cells": [
    {
      "cell_type": "code",
      "execution_count": null,
      "metadata": {
        "id": "UqBpGOvLUntz"
      },
      "outputs": [],
      "source": [
        "import pandas as pd\n",
        "import numpy as np\n",
        "import matplotlib.pyplot as plt\n",
        "import seaborn as sns\n",
        "from sklearn.model_selection import train_test_split, cross_val_score\n",
        "from sklearn.preprocessing import StandardScaler\n",
        "from sklearn.ensemble import RandomForestClassifier\n",
        "from sklearn.metrics import classification_report, confusion_matrix, accuracy_score\n",
        "import warnings\n",
        "warnings.filterwarnings('ignore')\n",
        "\n",
        "print(\"=\"*60)\n",
        "print(\"MOBILE PHONE PRICE PREDICTION MODEL\")\n",
        "print(\"=\"*60)\n"
      ]
    },
    {
      "cell_type": "code",
      "source": [
        "# Load the dataset from uploaded CSV file\n",
        "from google.colab import files\n",
        "import io\n",
        "\n",
        "# Upload your CSV file\n",
        "print(\"Please upload your dataset.csv file...\")\n",
        "uploaded = files.upload()\n",
        "\n",
        "# Get the filename\n",
        "filename = list(uploaded.keys())[0]\n",
        "df = pd.read_csv(filename)\n",
        "\n",
        "print(f\"✓ Dataset '{filename}' loaded successfully!\")\n"
      ],
      "metadata": {
        "id": "9sY0MLkrjf3J"
      },
      "execution_count": null,
      "outputs": []
    },
    {
      "cell_type": "code",
      "source": [
        "# 1. DATA EXPLORATION\n",
        "print(\"\\n1. DATASET OVERVIEW\")\n",
        "print(\"-\"*60)\n",
        "print(f\"Dataset Shape: {df.shape}\")\n",
        "print(f\"\\nColumn Names:\\n{df.columns.tolist()}\")\n",
        "print(f\"\\nData Types:\\n{df.dtypes}\")\n",
        "print(f\"\\nMissing Values:\\n{df.isnull().sum()}\")\n",
        "print(f\"\\nBasic Statistics:\\n{df.describe()}\")\n",
        "\n",
        "# Price range distribution\n",
        "print(f\"\\nPrice Range Distribution:\")\n",
        "print(df['price_range'].value_counts().sort_index())\n"
      ],
      "metadata": {
        "id": "Aq6UkknGjkam"
      },
      "execution_count": null,
      "outputs": []
    },
    {
      "cell_type": "code",
      "source": [
        "# 2. FEATURE ANALYSIS\n",
        "print(\"\\n\\n2. FEATURE CORRELATION ANALYSIS\")\n",
        "print(\"-\"*60)\n",
        "\n",
        "# Calculate correlation with target\n",
        "correlation_with_target = df.corr()['price_range'].sort_values(ascending=False)\n",
        "print(\"\\nTop 10 Features Correlated with Price:\")\n",
        "print(correlation_with_target.head(11))  # 11 to include target itself\n"
      ],
      "metadata": {
        "id": "AUWSC_DPjn46"
      },
      "execution_count": null,
      "outputs": []
    },
    {
      "cell_type": "code",
      "source": [
        "# 3. DATA VISUALIZATION\n",
        "fig, axes = plt.subplots(2, 2, figsize=(14, 10))\n",
        "\n",
        "# Price distribution\n",
        "axes[0, 0].bar(['Low', 'Medium', 'High', 'Very High'],\n",
        "               df['price_range'].value_counts().sort_index().values,\n",
        "               color=['green', 'blue', 'orange', 'red'])\n",
        "axes[0, 0].set_title('Price Range Distribution', fontsize=12, fontweight='bold')\n",
        "axes[0, 0].set_ylabel('Count')\n",
        "\n",
        "# Top features correlation\n",
        "top_features = correlation_with_target[1:11]\n",
        "axes[0, 1].barh(range(len(top_features)), top_features.values)\n",
        "axes[0, 1].set_yticks(range(len(top_features)))\n",
        "axes[0, 1].set_yticklabels(top_features.index)\n",
        "axes[0, 1].set_title('Top 10 Features by Correlation', fontsize=12, fontweight='bold')\n",
        "axes[0, 1].set_xlabel('Correlation Coefficient')\n",
        "\n",
        "# RAM vs Price (strongest correlation)\n",
        "axes[1, 0].scatter(df['ram'], df['price_range'], alpha=0.5, c=df['price_range'], cmap='viridis')\n",
        "axes[1, 0].set_title('RAM vs Price Range', fontsize=12, fontweight='bold')\n",
        "axes[1, 0].set_xlabel('RAM (MB)')\n",
        "axes[1, 0].set_ylabel('Price Range')\n",
        "\n",
        "# Battery Power vs Price\n",
        "axes[1, 1].scatter(df['battery_power'], df['price_range'], alpha=0.5, c=df['price_range'], cmap='plasma')\n",
        "axes[1, 1].set_title('Battery Power vs Price Range', fontsize=12, fontweight='bold')\n",
        "axes[1, 1].set_xlabel('Battery Power (mAh)')\n",
        "axes[1, 1].set_ylabel('Price Range')\n",
        "\n",
        "plt.tight_layout()\n"
      ],
      "metadata": {
        "id": "CbD5GJcKjra0"
      },
      "execution_count": null,
      "outputs": []
    },
    {
      "cell_type": "code",
      "source": [
        "# 4. DATA PREPARATION\n",
        "print(\"\\n\\n3. DATA PREPARATION\")\n",
        "print(\"-\"*60)\n",
        "\n",
        "# Separate features and target\n",
        "X = df.drop('price_range', axis=1)\n",
        "y = df['price_range']\n",
        "\n",
        "# Split the data\n",
        "X_train, X_test, y_train, y_test = train_test_split(X, y, test_size=0.2, random_state=42, stratify=y)\n",
        "\n",
        "print(f\"Training set size: {X_train.shape[0]}\")\n",
        "print(f\"Testing set size: {X_test.shape[0]}\")\n",
        "\n",
        "# Feature scaling\n",
        "scaler = StandardScaler()\n",
        "X_train_scaled = scaler.fit_transform(X_train)\n",
        "X_test_scaled = scaler.transform(X_test)\n"
      ],
      "metadata": {
        "id": "OZ6wWBdIjvkS"
      },
      "execution_count": null,
      "outputs": []
    },
    {
      "cell_type": "code",
      "source": [
        "# 5. MODEL TRAINING\n",
        "print(\"\\n\\n4. MODEL TRAINING\")\n",
        "print(\"-\"*60)\n",
        "\n",
        "# Random Forest Classifier (optimal for this task)\n",
        "model = RandomForestClassifier(\n",
        "    n_estimators=100,\n",
        "    max_depth=20,\n",
        "    min_samples_split=5,\n",
        "    min_samples_leaf=2,\n",
        "    random_state=42,\n",
        "    n_jobs=-1\n",
        ")\n",
        "\n",
        "print(\"Training Random Forest Classifier...\")\n",
        "model.fit(X_train_scaled, y_train)\n",
        "print(\"✓ Training complete!\")\n"
      ],
      "metadata": {
        "id": "152jCwgQjyeG"
      },
      "execution_count": null,
      "outputs": []
    },
    {
      "cell_type": "code",
      "source": [
        "# 6. MODEL EVALUATION\n",
        "print(\"\\n\\n5. MODEL EVALUATION\")\n",
        "print(\"-\"*60)\n",
        "\n",
        "# Predictions\n",
        "y_pred = model.predict(X_test_scaled)\n",
        "\n",
        "# Accuracy\n",
        "accuracy = accuracy_score(y_test, y_pred)\n",
        "print(f\"\\nModel Accuracy: {accuracy*100:.2f}%\")\n",
        "\n",
        "# Cross-validation score\n",
        "cv_scores = cross_val_score(model, X_train_scaled, y_train, cv=5)\n",
        "print(f\"Cross-Validation Accuracy: {cv_scores.mean()*100:.2f}% (+/- {cv_scores.std()*100:.2f}%)\")\n",
        "\n",
        "# Classification Report\n",
        "print(\"\\nClassification Report:\")\n",
        "print(\"-\"*60)\n",
        "target_names = ['Low Cost', 'Medium Cost', 'High Cost', 'Very High Cost']\n",
        "print(classification_report(y_test, y_pred, target_names=target_names))\n",
        "\n",
        "# Confusion Matrix\n",
        "print(\"\\nConfusion Matrix:\")\n",
        "cm = confusion_matrix(y_test, y_pred)\n",
        "print(cm)\n",
        "\n",
        "# Visualize Confusion Matrix\n",
        "plt.figure(figsize=(8, 6))\n",
        "sns.heatmap(cm, annot=True, fmt='d', cmap='Blues',\n",
        "            xticklabels=target_names, yticklabels=target_names)\n",
        "plt.title('Confusion Matrix', fontsize=14, fontweight='bold')\n",
        "plt.ylabel('Actual')\n",
        "plt.xlabel('Predicted')\n",
        "plt.tight_layout()"
      ],
      "metadata": {
        "id": "qzJEUKvXj13Y"
      },
      "execution_count": null,
      "outputs": []
    },
    {
      "cell_type": "code",
      "source": [
        "# 7. FEATURE IMPORTANCE\n",
        "print(\"\\n\\n6. FEATURE IMPORTANCE\")\n",
        "print(\"-\"*60)\n",
        "\n",
        "feature_importance = pd.DataFrame({\n",
        "    'feature': X.columns,\n",
        "    'importance': model.feature_importances_\n",
        "}).sort_values('importance', ascending=False)\n",
        "\n",
        "print(\"\\nTop 10 Most Important Features:\")\n",
        "print(feature_importance.head(10).to_string(index=False))\n",
        "\n",
        "# Visualize feature importance\n",
        "plt.figure(figsize=(10, 6))\n",
        "plt.barh(range(10), feature_importance.head(10)['importance'].values)\n",
        "plt.yticks(range(10), feature_importance.head(10)['feature'].values)\n",
        "plt.xlabel('Importance Score')\n",
        "plt.title('Top 10 Feature Importance', fontsize=14, fontweight='bold')\n",
        "plt.gca().invert_yaxis()\n",
        "plt.tight_layout()"
      ],
      "metadata": {
        "id": "66znjuaDj4rO"
      },
      "execution_count": null,
      "outputs": []
    },
    {
      "cell_type": "code",
      "source": [
        "# 8. PREDICTION FUNCTION\n",
        "print(\"\\n\\n7. SAMPLE PREDICTIONS\")\n",
        "print(\"-\"*60)\n",
        "\n",
        "def predict_price(battery_power, blue, clock_speed, dual_sim, fc, four_g,\n",
        "                  int_memory, m_dep, mobile_wt, n_cores, pc, px_height,\n",
        "                  px_width, ram, sc_h, sc_w, talk_time, three_g,\n",
        "                  touch_screen, wifi):\n",
        "    \"\"\"\n",
        "    Predict mobile phone price range\n",
        "    Returns: 0=Low, 1=Medium, 2=High, 3=Very High\n",
        "    \"\"\"\n",
        "    features = np.array([[battery_power, blue, clock_speed, dual_sim, fc, four_g,\n",
        "                         int_memory, m_dep, mobile_wt, n_cores, pc, px_height,\n",
        "                         px_width, ram, sc_h, sc_w, talk_time, three_g,\n",
        "                         touch_screen, wifi]])\n",
        "\n",
        "    features_scaled = scaler.transform(features)\n",
        "    prediction = model.predict(features_scaled)[0]\n",
        "\n",
        "    price_labels = {0: 'Low Cost', 1: 'Medium Cost', 2: 'High Cost', 3: 'Very High Cost'}\n",
        "    return price_labels[prediction]\n",
        "\n",
        "# Test with sample data\n",
        "sample_phones = [\n",
        "    {\n",
        "        'name': 'Budget Phone',\n",
        "        'specs': (842, 0, 2.2, 0, 1, 0, 7, 0.6, 188, 2, 2, 20, 756, 2549, 9, 7, 19, 0, 0, 1)\n",
        "    },\n",
        "    {\n",
        "        'name': 'Premium Phone',\n",
        "        'specs': (1021, 1, 2.5, 1, 5, 1, 64, 0.7, 136, 8, 20, 1920, 1080, 3500, 15, 8, 10, 1, 1, 1)\n",
        "    }\n",
        "]\n",
        "\n",
        "for phone in sample_phones:\n",
        "    prediction = predict_price(*phone['specs'])\n",
        "    print(f\"\\n{phone['name']}: Predicted as '{prediction}'\")\n",
        "\n",
        "print(\"\\n\" + \"=\"*60)\n",
        "print(\"MODEL TRAINING COMPLETE!\")\n",
        "print(\"=\"*60)\n",
        "print(f\"\\nFinal Model Accuracy: {accuracy*100:.2f}%\")\n",
        "print(\"\\nModel is ready for predictions!\")"
      ],
      "metadata": {
        "id": "mQS4bwTWj9z2"
      },
      "execution_count": null,
      "outputs": []
    }
  ]
}